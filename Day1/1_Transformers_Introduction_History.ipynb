{
 "cells": [
  {
   "cell_type": "markdown",
   "metadata": {},
   "source": [
    "# Transformers: A Comprehensive Overview"
   ]
  },
  {
   "cell_type": "markdown",
   "metadata": {},
   "source": [
    "## 1. What are Transformers?"
   ]
  },
  {
   "cell_type": "markdown",
   "metadata": {},
   "source": [
    "Transformers are a type of deep learning model architecture that has revolutionized the field of natural language processing (NLP) and beyond. At their core, Transformers are designed to handle sequential data, such as text, by processing the entire input simultaneously rather than sequentially. This parallel processing is made possible through a mechanism called \"self-attention,\" which allows the model to weigh the importance of different parts of the input when producing an output.\n",
    "\n",
    "Key features of Transformers include:\n",
    "\n",
    "1. **Self-Attention Mechanism**: Allows the model to focus on different parts of the input sequence when producing each part of the output.\n",
    "2. **Positional Encoding**: Enables the model to understand the order of elements in the input sequence.\n",
    "3. **Parallel Processing**: Allows for efficient training and inference on modern hardware.\n",
    "4. **Scalability**: Can handle both short and long-range dependencies in data effectively.\n",
    "\n",
    "![transformers](res/1_transformers.png)"
   ]
  },
  {
   "cell_type": "markdown",
   "metadata": {},
   "source": [
    "## 2. Why Transformers Came into Picture"
   ]
  },
  {
   "cell_type": "markdown",
   "metadata": {},
   "source": [
    "Before Transformers, the dominant architectures for handling sequential data were Recurrent Neural Networks (RNNs), particularly Long Short-Term Memory (LSTM) networks. However, these models had several limitations:\n",
    "\n",
    "1. **Sequential Processing**: RNNs process data sequentially, making them slow to train on long sequences.\n",
    "2. **Vanishing/Exploding Gradients**: Long sequences often led to issues with gradient flow during training.\n",
    "3. **Limited Context**: While LSTMs improved on this, they still struggled with very long-range dependencies.\n",
    "4. **Difficulty in Parallelization**: The sequential nature of RNNs made them challenging to parallelize on modern GPU hardware.\n",
    "\n",
    "Transformers were developed to address these limitations, offering a more efficient and effective way to process sequential data."
   ]
  },
  {
   "cell_type": "markdown",
   "metadata": {},
   "source": [
    "## 3. History of Transformers"
   ]
  },
  {
   "cell_type": "markdown",
   "metadata": {},
   "source": [
    "1. **Attention Mechanisms (2014-2015)**:\n",
    "   - Bahdanau et al. introduced attention mechanisms in the context of neural machine translation.\n",
    "   - This allowed models to focus on relevant parts of the input when generating each part of the output.\n",
    "\n",
    "   ![bahdanau](res/2_bahdanau_attention.png)\n",
    "\n",
    "2. **Transformer Architecture (2017)**:\n",
    "   - Vaswani et al. published \"Attention Is All You Need,\" introducing the Transformer architecture.\n",
    "   - Key innovations included multi-head attention and positional encoding.\n",
    "   - The model achieved state-of-the-art performance on machine translation tasks.\n",
    "   ![attention_all_you_need](res/3_attention_is_all_you_need.png)\n",
    "\n",
    "3. **Pre-trained Language Models (2018-present)**:\n",
    "   - BERT (Bidirectional Encoder Representations from Transformers) by Google (2018) demonstrated the power of pre-training on large text corpora.\n",
    "   - GPT (Generative Pre-trained Transformer) series by OpenAI showed the potential of large-scale language models for various tasks.\n",
    "   - Subsequent models like T5, RoBERTa, and XLNet further refined and expanded on these concepts.\n",
    "   ![pretrained_models](res/4_pretrained_models.jpg)\n",
    "\n",
    "5. **Transformers Beyond NLP (2020-present)**:\n",
    "   - Vision Transformer (ViT) applied Transformer architecture to image classification.\n",
    "   - Transformers have been adapted for multimodal tasks, combining text, image, and even audio processing.\n",
    "   ![vit](res/5_vit.png)"
   ]
  },
  {
   "cell_type": "markdown",
   "metadata": {},
   "source": []
  }
 ],
 "metadata": {
  "language_info": {
   "name": "python"
  }
 },
 "nbformat": 4,
 "nbformat_minor": 2
}
